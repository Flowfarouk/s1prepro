{
 "cells": [
  {
   "cell_type": "code",
   "execution_count": 1,
   "metadata": {
    "collapsed": true
   },
   "outputs": [],
   "source": [
    "import datacube"
   ]
  },
  {
   "cell_type": "code",
   "execution_count": 2,
   "metadata": {
    "collapsed": true
   },
   "outputs": [],
   "source": [
    "dc = datacube.Datacube()"
   ]
  },
  {
   "cell_type": "code",
   "execution_count": 31,
   "metadata": {
    "collapsed": false
   },
   "outputs": [
    {
     "data": {
      "text/html": [
       "<div>\n",
       "<table border=\"1\" class=\"dataframe\">\n",
       "  <thead>\n",
       "    <tr style=\"text-align: right;\">\n",
       "      <th></th>\n",
       "      <th>name</th>\n",
       "      <th>description</th>\n",
       "      <th>instrument</th>\n",
       "      <th>format</th>\n",
       "      <th>product_type</th>\n",
       "      <th>platform</th>\n",
       "      <th>crs</th>\n",
       "      <th>resolution</th>\n",
       "      <th>tile_size</th>\n",
       "      <th>spatial_dimensions</th>\n",
       "    </tr>\n",
       "    <tr>\n",
       "      <th>id</th>\n",
       "      <th></th>\n",
       "      <th></th>\n",
       "      <th></th>\n",
       "      <th></th>\n",
       "      <th></th>\n",
       "      <th></th>\n",
       "      <th></th>\n",
       "      <th></th>\n",
       "      <th></th>\n",
       "      <th></th>\n",
       "    </tr>\n",
       "  </thead>\n",
       "  <tbody>\n",
       "    <tr>\n",
       "      <th>3</th>\n",
       "      <td>s1a_gamma0_scene</td>\n",
       "      <td>Sentinel-1A SAR Gamma0</td>\n",
       "      <td>SAR</td>\n",
       "      <td>ENVI</td>\n",
       "      <td>gamma0</td>\n",
       "      <td>SENTINEL_1A</td>\n",
       "      <td>NaN</td>\n",
       "      <td>NaN</td>\n",
       "      <td>NaN</td>\n",
       "      <td>NaN</td>\n",
       "    </tr>\n",
       "    <tr>\n",
       "      <th>4</th>\n",
       "      <td>s1b_gamma0_scene</td>\n",
       "      <td>Sentinel-1B SAR Gamma0</td>\n",
       "      <td>SAR</td>\n",
       "      <td>ENVI</td>\n",
       "      <td>gamma0</td>\n",
       "      <td>SENTINEL_1B</td>\n",
       "      <td>NaN</td>\n",
       "      <td>NaN</td>\n",
       "      <td>NaN</td>\n",
       "      <td>NaN</td>\n",
       "    </tr>\n",
       "  </tbody>\n",
       "</table>\n",
       "</div>"
      ],
      "text/plain": [
       "                name             description instrument format product_type  \\\n",
       "id                                                                            \n",
       "3   s1a_gamma0_scene  Sentinel-1A SAR Gamma0        SAR   ENVI       gamma0   \n",
       "4   s1b_gamma0_scene  Sentinel-1B SAR Gamma0        SAR   ENVI       gamma0   \n",
       "\n",
       "       platform  crs  resolution  tile_size  spatial_dimensions  \n",
       "id                                                               \n",
       "3   SENTINEL_1A  NaN         NaN        NaN                 NaN  \n",
       "4   SENTINEL_1B  NaN         NaN        NaN                 NaN  "
      ]
     },
     "execution_count": 31,
     "metadata": {},
     "output_type": "execute_result"
    }
   ],
   "source": [
    "dc.list_products()"
   ]
  },
  {
   "cell_type": "code",
   "execution_count": 32,
   "metadata": {
    "collapsed": false
   },
   "outputs": [
    {
     "data": {
      "text/html": [
       "<div>\n",
       "<table border=\"1\" class=\"dataframe\">\n",
       "  <thead>\n",
       "    <tr style=\"text-align: right;\">\n",
       "      <th></th>\n",
       "      <th></th>\n",
       "      <th>dtype</th>\n",
       "      <th>name</th>\n",
       "      <th>nodata</th>\n",
       "      <th>units</th>\n",
       "    </tr>\n",
       "    <tr>\n",
       "      <th>product</th>\n",
       "      <th>measurement</th>\n",
       "      <th></th>\n",
       "      <th></th>\n",
       "      <th></th>\n",
       "      <th></th>\n",
       "    </tr>\n",
       "  </thead>\n",
       "  <tbody>\n",
       "    <tr>\n",
       "      <th rowspan=\"2\" valign=\"top\">s1a_gamma0_scene</th>\n",
       "      <th>vh</th>\n",
       "      <td>float32</td>\n",
       "      <td>vh</td>\n",
       "      <td>0</td>\n",
       "      <td>1</td>\n",
       "    </tr>\n",
       "    <tr>\n",
       "      <th>vv</th>\n",
       "      <td>float32</td>\n",
       "      <td>vv</td>\n",
       "      <td>0</td>\n",
       "      <td>1</td>\n",
       "    </tr>\n",
       "    <tr>\n",
       "      <th rowspan=\"2\" valign=\"top\">s1b_gamma0_scene</th>\n",
       "      <th>vh</th>\n",
       "      <td>float32</td>\n",
       "      <td>vh</td>\n",
       "      <td>0</td>\n",
       "      <td>1</td>\n",
       "    </tr>\n",
       "    <tr>\n",
       "      <th>vv</th>\n",
       "      <td>float32</td>\n",
       "      <td>vv</td>\n",
       "      <td>0</td>\n",
       "      <td>1</td>\n",
       "    </tr>\n",
       "  </tbody>\n",
       "</table>\n",
       "</div>"
      ],
      "text/plain": [
       "                                dtype name  nodata units\n",
       "product          measurement                            \n",
       "s1a_gamma0_scene vh           float32   vh       0     1\n",
       "                 vv           float32   vv       0     1\n",
       "s1b_gamma0_scene vh           float32   vh       0     1\n",
       "                 vv           float32   vv       0     1"
      ]
     },
     "execution_count": 32,
     "metadata": {},
     "output_type": "execute_result"
    }
   ],
   "source": [
    "dc.list_measurements()"
   ]
  },
  {
   "cell_type": "code",
   "execution_count": 33,
   "metadata": {
    "collapsed": false
   },
   "outputs": [],
   "source": [
    "x = dc.load(product='s1a_gamma0_scene', output_crs='EPSG:4326', resolution=(-0.00025, 0.00025))"
   ]
  },
  {
   "cell_type": "code",
   "execution_count": 34,
   "metadata": {
    "collapsed": false
   },
   "outputs": [
    {
     "data": {
      "text/plain": [
       "<xarray.Dataset>\n",
       "Dimensions:    (latitude: 6006, longitude: 13062, time: 1)\n",
       "Coordinates:\n",
       "  * time       (time) datetime64[ns] 2015-02-23T09:09:18.828457\n",
       "  * latitude   (latitude) float64 -42.2 -42.2 -42.2 -42.2 -42.2 -42.2 -42.2 ...\n",
       "  * longitude  (longitude) float64 145.0 145.0 145.0 145.0 145.0 145.0 145.0 ...\n",
       "Data variables:\n",
       "    vh         (time, latitude, longitude) float32 0.0 0.0 0.0 0.0 0.0 0.0 ...\n",
       "    vv         (time, latitude, longitude) float32 0.0 0.0 0.0 0.0 0.0 0.0 ...\n",
       "Attributes:\n",
       "    crs: EPSG:4326"
      ]
     },
     "execution_count": 34,
     "metadata": {},
     "output_type": "execute_result"
    }
   ],
   "source": [
    "x"
   ]
  },
  {
   "cell_type": "code",
   "execution_count": 35,
   "metadata": {
    "collapsed": true
   },
   "outputs": [],
   "source": [
    "%matplotlib inline"
   ]
  },
  {
   "cell_type": "code",
   "execution_count": 36,
   "metadata": {
    "collapsed": false,
    "scrolled": true
   },
   "outputs": [
    {
     "data": {
      "text/plain": [
       "<matplotlib.collections.QuadMesh at 0x7f782f584c10>"
      ]
     },
     "execution_count": 36,
     "metadata": {},
     "output_type": "execute_result"
    },
    {
     "data": {
      "image/png": "[encoded data removed]",
      "text/plain": [
       "<matplotlib.figure.Figure at 0x7f782f5cac90>"
      ]
     },
     "metadata": {},
     "output_type": "display_data"
    }
   ],
   "source": [
    "x.vv.plot()"
   ]
  },
  {
   "cell_type": "code",
   "execution_count": 37,
   "metadata": {
    "collapsed": false
   },
   "outputs": [
    {
     "data": {
      "text/plain": [
       "<matplotlib.collections.QuadMesh at 0x7f782f497f50>"
      ]
     },
     "execution_count": 37,
     "metadata": {},
     "output_type": "execute_result"
    },
    {
     "data": {
      "image/png": "[encoded data removed]",
      "text/plain": [
       "<matplotlib.figure.Figure at 0x7f7801430450>"
      ]
     },
     "metadata": {},
     "output_type": "display_data"
    }
   ],
   "source": [
    "x.vv[0,::100,::100].plot()"
   ]
  },
  {
   "cell_type": "code",
   "execution_count": 38,
   "metadata": {
    "collapsed": false
   },
   "outputs": [
    {
     "data": {
      "text/plain": [
       "<xarray.DataArray 'vv' (latitude: 7, longitude: 14)>\n",
       "array([[ 0.        ,  0.        ,  0.        ,  0.        ,  0.        ,\n",
       "         0.        ,  0.        ,  0.        ,  0.        ,  0.        ,\n",
       "         0.        ,  0.        ,  0.        ,  0.        ],\n",
       "       [ 0.        ,  0.        ,  0.        ,  0.        ,  0.        ,\n",
       "         0.        ,  0.        ,  0.        ,  0.        ,  0.03133055,\n",
       "         0.13307805,  0.17053199,  0.01937341,  0.        ],\n",
       "       [ 0.        ,  0.        ,  0.        ,  0.        ,  0.        ,\n",
       "         0.03559732,  0.0432989 ,  0.05692128,  0.02684703,  0.02553715,\n",
       "         0.06420372,  0.13408227,  0.        ,  0.        ],\n",
       "       [ 0.        ,  0.        ,  0.        ,  0.08255903,  0.20859727,\n",
       "         0.07113805,  0.1186877 ,  0.11633661,  0.12248221,  0.08469804,\n",
       "         0.21946131,  0.07640633,  0.        ,  0.        ],\n",
       "       [ 0.        ,  0.        ,  0.        ,  0.        ,  0.12136722,\n",
       "         0.17693938,  0.07009638,  0.1718884 ,  0.03588602,  0.        ,\n",
       "         0.        ,  0.        ,  0.        ,  0.        ],\n",
       "       [ 0.        ,  0.        ,  0.        ,  0.        ,  0.        ,\n",
       "         0.05092128,  0.        ,  0.        ,  0.        ,  0.        ,\n",
       "         0.        ,  0.        ,  0.        ,  0.        ],\n",
       "       [ 0.        ,  0.        ,  0.        ,  0.        ,  0.        ,\n",
       "         0.        ,  0.        ,  0.        ,  0.        ,  0.        ,\n",
       "         0.        ,  0.        ,  0.        ,  0.        ]], dtype=float32)\n",
       "Coordinates:\n",
       "    time       datetime64[ns] 2015-02-23T09:09:18.828457\n",
       "  * latitude   (latitude) float64 -42.2 -42.45 -42.7 -42.95 -43.2 -43.45 -43.7\n",
       "  * longitude  (longitude) float64 145.0 145.2 145.5 145.7 146.0 146.2 146.5 ...\n",
       "Attributes:\n",
       "    units: 1\n",
       "    crs: EPSG:4326\n",
       "    nodata: 0"
      ]
     },
     "execution_count": 38,
     "metadata": {},
     "output_type": "execute_result"
    }
   ],
   "source": [
    "x.vv[0,::1000,::1000]"
   ]
  },
  {
   "cell_type": "code",
   "execution_count": null,
   "metadata": {
    "collapsed": true
   },
   "outputs": [],
   "source": []
  }
 ],
 "metadata": {
  "kernelspec": {
   "display_name": "Python 2",
   "language": "python",
   "name": "python2"
  },
  "language_info": {
   "codemirror_mode": {
    "name": "ipython",
    "version": 2
   },
   "file_extension": ".py",
   "mimetype": "text/x-python",
   "name": "python",
   "nbconvert_exporter": "python",
   "pygments_lexer": "ipython2",
   "version": "2.7.12"
  }
 },
 "nbformat": 4,
 "nbformat_minor": 0
}
